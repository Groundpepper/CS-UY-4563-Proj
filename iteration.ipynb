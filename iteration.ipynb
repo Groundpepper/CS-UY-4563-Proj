{
 "cells": [
  {
   "cell_type": "code",
   "execution_count": 1,
   "id": "09d61860-4d0d-400c-b7a0-35f7fa419360",
   "metadata": {},
   "outputs": [],
   "source": [
    "from geoguessr_DE import *"
   ]
  },
  {
   "cell_type": "code",
   "execution_count": 27,
   "id": "de694cac-0787-4a77-91e4-40f27504530b",
   "metadata": {},
   "outputs": [],
   "source": [
    "driver = webdriver.Chrome()\n",
    "geoguessr_login(driver)"
   ]
  },
  {
   "cell_type": "code",
   "execution_count": 28,
   "id": "c7e99d5f-b431-42cf-a509-c122ad680c45",
   "metadata": {},
   "outputs": [],
   "source": [
    "game_url = 'https://www.geoguessr.com/game/eu6kp3nfwuzXLTEg'\n",
    "for i in range(2):\n",
    "    collect_data_from_round(driver, game_url)\n",
    "    time.sleep(1)\n",
    "    driver.find_element(webdriver.common.by.By.XPATH, '//*[@id=\"__next\"]/div[2]/div[3]/main/div[2]/div/div[2]/div/div[2]/div[3]/div/div/button').click()\n",
    "    time.sleep(2)\n",
    "    driver.switch_to.window(driver.window_handles[0])\n",
    "    time.sleep(1)\n",
    "    game_url = driver.current_url\n",
    "    time.sleep(2)\n",
    "collect_data_from_round(driver, game_url)\n",
    "driver.close()"
   ]
  },
  {
   "cell_type": "code",
   "execution_count": 62,
   "id": "22d53d5f-d3f4-4824-93aa-6503440e6eef",
   "metadata": {},
   "outputs": [],
   "source": [
    "time.sleep(600)"
   ]
  },
  {
   "cell_type": "code",
   "execution_count": null,
   "id": "040521d1-6634-4445-8470-558878f3b64a",
   "metadata": {},
   "outputs": [],
   "source": []
  },
  {
   "cell_type": "code",
   "execution_count": null,
   "id": "391218d3-32b3-49f7-82c2-ca199ddedf76",
   "metadata": {},
   "outputs": [],
   "source": []
  },
  {
   "cell_type": "code",
   "execution_count": null,
   "id": "cbb209a3-e0f5-4c04-bb22-c7d77a3f9a96",
   "metadata": {},
   "outputs": [],
   "source": []
  }
 ],
 "metadata": {
  "kernelspec": {
   "display_name": "Python 3 (ipykernel)",
   "language": "python",
   "name": "python3"
  },
  "language_info": {
   "codemirror_mode": {
    "name": "ipython",
    "version": 3
   },
   "file_extension": ".py",
   "mimetype": "text/x-python",
   "name": "python",
   "nbconvert_exporter": "python",
   "pygments_lexer": "ipython3",
   "version": "3.10.11"
  }
 },
 "nbformat": 4,
 "nbformat_minor": 5
}
