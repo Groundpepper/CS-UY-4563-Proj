{
 "cells": [
  {
   "cell_type": "code",
   "execution_count": 1,
   "id": "09d61860-4d0d-400c-b7a0-35f7fa419360",
   "metadata": {},
   "outputs": [],
   "source": [
    "import time\n",
    "import numpy as np\n",
    "from PIL import Image\n",
    "from selenium import webdriver"
   ]
  },
  {
   "cell_type": "code",
   "execution_count": 2,
   "id": "de694cac-0787-4a77-91e4-40f27504530b",
   "metadata": {},
   "outputs": [],
   "source": [
    "def create_screenshot(driver: webdriver, folder: str):\n",
    "    image_path = '{}/canvas_{}.png'.format(folder, str(time.time()))\n",
    "    f = open(image_path, 'xb')\n",
    "    gui_classes = ['onetrust-pc-dark-filter ot-fade-in', 'ot-sdk-container', 'game_guessMap__MTlQ_',\n",
    "                   'game_status__q_b7N game_statusWithCompassTop__F_unm', 'game_topHud__tAKJD', 'game_controls___pIfC',\n",
    "                   'gmnoprint SLHIdE-sv-links-control', 'gmnoprint', 'gmnoprint', 'gmnoprint gm-style-cc', 'gm-style-cc']\n",
    "\n",
    "    for class_id in gui_classes:\n",
    "        try:\n",
    "            driver.execute_script(\"\"\"\n",
    "               var l = document.getElementsByClassName(\"{}\")[0];\n",
    "                l.parentNode.removeChild(l);\n",
    "            \"\"\".format(class_id))\n",
    "        except:\n",
    "            raise BaseException('Failed to delete class_id', class_id)\n",
    "\n",
    "    canvas = driver.find_element(webdriver.common.by.By.TAG_NAME, 'canvas')\n",
    "    f.write(canvas.screenshot_as_png)\n",
    "    return image_path"
   ]
  },
  {
   "cell_type": "code",
   "execution_count": null,
   "id": "c7e99d5f-b431-42cf-a509-c122ad680c45",
   "metadata": {},
   "outputs": [],
   "source": [
    "map_url = 'geoguessr_map_url'\n",
    "# replace this with actual url, ie. https://www.geoguessr.com/game/vNwpLWyPk56Pja8p\n",
    "\n",
    "driver = webdriver.Chrome()\n",
    "driver.get(map_url)\n",
    "time.sleep(2)\n",
    "\n",
    "image_path = create_screenshot(driver, '/screenshots')\n",
    "\n",
    "time.sleep(2)\n",
    "driver.close()"
   ]
  }
 ],
 "metadata": {
  "kernelspec": {
   "display_name": "Python 3 (ipykernel)",
   "language": "python",
   "name": "python3"
  },
  "language_info": {
   "codemirror_mode": {
    "name": "ipython",
    "version": 3
   },
   "file_extension": ".py",
   "mimetype": "text/x-python",
   "name": "python",
   "nbconvert_exporter": "python",
   "pygments_lexer": "ipython3",
   "version": "3.10.11"
  }
 },
 "nbformat": 4,
 "nbformat_minor": 5
}
