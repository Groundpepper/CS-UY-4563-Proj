{
 "cells": [
  {
   "cell_type": "code",
   "execution_count": 1,
   "id": "857cf4c2",
   "metadata": {},
   "outputs": [],
   "source": [
    "from sklearn.linear_model import LinearRegression, SGDClassifier, LogisticRegression\n",
    "from sklearn.neighbors import KNeighborsClassifier\n",
    "from sklearn.model_selection import train_test_split\n",
    "import matplotlib.pyplot as plt\n",
    "import math\n",
    "from tqdm import tqdm\n",
    "import time\n",
    "import os\n",
    "import IPython\n",
    "from PIL import Image\n",
    "import numpy as np"
   ]
  },
  {
   "cell_type": "code",
   "execution_count": 2,
   "id": "3e386722-dedb-4efc-89ce-5505562240b2",
   "metadata": {},
   "outputs": [],
   "source": [
    "def get_data_for_ML():\n",
    "    \"\"\"\n",
    "    reshapes image and coordinate data; returns X and Y for ML\n",
    "    \"\"\"\n",
    "    train_images, train_coords = list(), list()\n",
    "    with open('coordinates.txt', 'r') as f:\n",
    "        for line in tqdm(f):\n",
    "            lat, lon, image_path = line.split(',')\n",
    "            train_coords.append([float(lat), float(lon)])\n",
    "            image_path = image_path[1:-1]\n",
    "            image_array = np.array(Image.open(image_path))\n",
    "            train_images.append(image_array)\n",
    "    return np.asarray(train_images), np.asarray(train_coords)\n",
    "\n",
    "\n",
    "def compare_results(actual_labels, predicted_labels):\n",
    "    \"\"\"\n",
    "    text here\n",
    "    \"\"\"\n",
    "    accuracy_list, points_list = list(), list()\n",
    "    for item_ind in range(len(actual_labels)):\n",
    "        lat_difference = abs(actual_labels[item_ind][0] - predicted_labels[item_ind][0])\n",
    "        lon_difference = abs(actual_labels[item_ind][1] - predicted_labels[item_ind][1])\n",
    "        total_difference_miles = lat_difference * 69 + lon_difference * 54.6 # 1 lat ~ 69 mi; 1 lon ~ 54.6 mi\n",
    "        points = 5000 * (math.e ** (-1 * total_difference_miles / 4000)) # Russia's span is 4500 mi\n",
    "        points_list.append(points)\n",
    "        accuracy_list.append(points / 5000 * 100)\n",
    "    return str(round(sum(accuracy_list) / len(accuracy_list))) + '%', sum(points_list) / len(points_list)\n",
    "\n",
    "\n",
    "def show_error_distribution(y_test, y_pred):\n",
    "    \"\"\"\n",
    "    text here\n",
    "    \"\"\"\n",
    "    error_vals = list()\n",
    "    for ind in range(len(y_test)):\n",
    "        miles_apart = ((abs(y_test[ind][0] - y_pred[ind][0]) ** 2 + abs(y_test[ind][1] - y_pred[ind][1]) ** 2)) ** (1/2)\n",
    "        error_vals.append(int(miles_apart))\n",
    "    plt.xlabel('Distance Apart (mi)')\n",
    "    plt.ylabel(\"Percentage Accuracy\")\n",
    "    plt.bar(error_vals, [error_vals.count(v) for v in error_vals])\n",
    "\n",
    "\n",
    "def KNN_test(X_train, y_train, X_test, n_neighbors):\n",
    "    \"\"\"\n",
    "    ~83%\n",
    "    runtime: <1 hr based on n_neighbors\n",
    "    \"\"\"\n",
    "    if len(X_train.shape) != 2 or len(X_test.shape) != 2:\n",
    "        X_train = X_train.reshape(len(X_train), -1)\n",
    "        X_test = X_test.reshape(len(X_test), -1)\n",
    "    X_train = X_train.astype(int)\n",
    "    y_train = y_train.astype(int)\n",
    "    X_test = X_test.astype(int)\n",
    "    neigh = KNeighborsClassifier(n_neighbors=n_neighbors)\n",
    "    neigh.fit(X_train, y_train)\n",
    "    return neigh.predict(X_test)\n",
    "\n",
    "\n",
    "def display_KNN_graph(X_train, y_train, X_test):\n",
    "    \"\"\"\n",
    "    text here\n",
    "    \"\"\"\n",
    "    if len(X_train.shape) != 2 or len(X_test.shape) != 2:\n",
    "        X_train = X_train.reshape(len(X_train), -1)\n",
    "        X_test = X_test.reshape(len(X_test), -1)\n",
    "    x, y = list(), list()\n",
    "    for i in tqdm(range(5, len(X_train) // 10, 5)):\n",
    "        y_pred = KNN_test(X_train, y_train, X_test, i)\n",
    "        x.append(int(i))\n",
    "        y.append(float(compare_results(y_test, y_pred)[0][:-1]))\n",
    "    plt.xlabel('Number of Neighbors')\n",
    "    plt.ylabel(\"Percentage Accuracy\")\n",
    "    plt.plot(x, y)\n",
    "\n",
    "\n",
    "def linreg_test(X_train, y_train, X_test):\n",
    "    \"\"\"\n",
    "    ~80%\n",
    "    runtime: ~10m\n",
    "    \"\"\"\n",
    "    if len(X_train.shape) != 2 or len(X_test.shape) != 2:\n",
    "        X_train = X_train.reshape(len(X_train), -1)\n",
    "        X_test = X_test.reshape(len(X_test), -1)\n",
    "    linreg = LinearRegression()\n",
    "    linreg.fit(X_train, y_train)\n",
    "    return linreg.predict(X_test)\n",
    "\n",
    "\n",
    "def logreg_test(X_train, y_train, X_test, penalty):\n",
    "    \"\"\"\n",
    "    penalty l2:    82%\n",
    "    penalty None:  78%\n",
    "    Runtime:  45m\n",
    "    \"\"\"\n",
    "    if len(X_train.shape) != 2 or len(X_test.shape) != 2:\n",
    "        X_train = X_train.reshape(len(X_train), -1)\n",
    "        X_test = X_test.reshape(len(X_test), -1)\n",
    "    X_train = X_train.astype(int)\n",
    "    y_train = y_train.astype(int)\n",
    "    X_test = X_test.astype(int)\n",
    "    lat_clf, lon_clf = SGDClassifier(penalty=penalty), SGDClassifier(penalty=penalty)\n",
    "    lat_clf.fit(X_train, [c[0] for c in y_train])\n",
    "    lon_clf.fit(X_train, [c[1] for c in y_train])\n",
    "    lat_predicted, lon_predicted = lat_clf.predict(X_test), lon_clf.predict(X_test)\n",
    "    return [[lat_predicted[i], lon_predicted[i]] for i in range(len(lat_predicted))]\n",
    "    \n",
    "\n",
    "def sanity_test():\n",
    "    counter = 0\n",
    "    with open('coordinates.txt', 'r') as f:\n",
    "        for line in f:\n",
    "            if line.split('screenshots/')[-1][:-1] not in os.listdir('screenshots'):\n",
    "                print(line)\n",
    "            counter += 1\n",
    "    len_screenshots = len(list(os.listdir('screenshots'))) - 1\n",
    "    print(counter == len_screenshots)\n",
    "    print(counter, '==', len_screenshots)\n"
   ]
  },
  {
   "cell_type": "code",
   "execution_count": 3,
   "id": "44f78e6e-ffdb-49fc-8738-39cae771a0ca",
   "metadata": {},
   "outputs": [
    {
     "name": "stderr",
     "output_type": "stream",
     "text": [
      "990it [00:15, 63.33it/s]\n"
     ]
    }
   ],
   "source": [
    "train_images, train_labels = get_data_for_ML()\n",
    "X_train, X_test, y_train, y_test = train_test_split(train_images, train_labels)"
   ]
  },
  {
   "cell_type": "code",
   "execution_count": null,
   "id": "68f0b7fc-6579-45a8-94ec-e105315727be",
   "metadata": {},
   "outputs": [],
   "source": []
  },
  {
   "cell_type": "code",
   "execution_count": null,
   "id": "ccafc7e5-2806-4f4c-9ee1-d2fb55f30618",
   "metadata": {},
   "outputs": [],
   "source": []
  },
  {
   "cell_type": "code",
   "execution_count": null,
   "id": "e27bd37f-7547-4651-8301-b85d4f5caec5",
   "metadata": {},
   "outputs": [],
   "source": []
  },
  {
   "cell_type": "code",
   "execution_count": null,
   "id": "3dc2a578-ff68-4115-a6bd-8769b4f728b2",
   "metadata": {},
   "outputs": [],
   "source": [
    "def function_a(y_train, y_test, y_pred):\n",
    "    for ind in range(len(y_test)):\n",
    "        plt.scatter([a[1] for a in y_train], [a[0] for a in y_train])\n",
    "        plt.scatter([38], [56], label='Moscow', color='black')\n",
    "        plt.scatter([30], [60], label='St. Petersberg', color='black')\n",
    "        plt.scatter([44], [48], label='Volgograd', color='black')\n",
    "        plt.scatter([131], [43], label='Vladivostok', color='black')\n",
    "        plt.scatter([y_test[ind][1]], [y_test[ind][0]], color='lightgreen') # ACTUAL VALUE\n",
    "        plt.scatter([y_pred[ind][1]], [y_pred[ind][0]], color='orange') # PREDICTED VALUE\n",
    "        plt.legend()\n",
    "        plt.show()\n",
    "        time.sleep(1)\n",
    "        IPython.display.clear_output()"
   ]
  },
  {
   "cell_type": "code",
   "execution_count": null,
   "id": "172978bc-386c-441e-989b-5693da9cf3d5",
   "metadata": {},
   "outputs": [],
   "source": []
  },
  {
   "cell_type": "code",
   "execution_count": null,
   "id": "b0c9f8e2-8f0f-48fe-b140-6feb53a15ee0",
   "metadata": {},
   "outputs": [],
   "source": []
  },
  {
   "cell_type": "code",
   "execution_count": null,
   "id": "525a7775-21fb-4107-9399-f8399c3d1f2e",
   "metadata": {},
   "outputs": [],
   "source": []
  },
  {
   "cell_type": "code",
   "execution_count": 8,
   "id": "8cc1600f-ac97-4411-bfd5-a0abf9467b63",
   "metadata": {},
   "outputs": [
    {
     "name": "stderr",
     "output_type": "stream",
     "text": [
      "100%|██████████████████████████████████████████████████████████████████████████████████| 14/14 [11:16<00:00, 48.32s/it]\n"
     ]
    },
    {
     "data": {
      "image/png": "[encoded data removed]",
      "text/plain": [
       "<Figure size 640x480 with 1 Axes>"
      ]
     },
     "metadata": {},
     "output_type": "display_data"
    }
   ],
   "source": [
    "display_KNN_graph(X_train, y_train, X_test)"
   ]
  },
  {
   "cell_type": "code",
   "execution_count": 9,
   "id": "746be0f6-8d8a-4832-be8e-989e2f29c680",
   "metadata": {},
   "outputs": [
    {
     "name": "stdout",
     "output_type": "stream",
     "text": [
      "('82%', 4106.848939015393)\n"
     ]
    },
    {
     "data": {
      "image/png": "[encoded data removed]",
      "text/plain": [
       "<Figure size 640x480 with 1 Axes>"
      ]
     },
     "metadata": {},
     "output_type": "display_data"
    }
   ],
   "source": [
    "y_pred = KNN_test(X_train, y_train, X_test, 40)\n",
    "print(compare_results(y_test, y_pred))\n",
    "show_error_distribution(y_test, y_pred)"
   ]
  },
  {
   "cell_type": "code",
   "execution_count": null,
   "id": "f3309255-b46b-4aee-b844-d60cd3c9936f",
   "metadata": {},
   "outputs": [],
   "source": []
  },
  {
   "cell_type": "code",
   "execution_count": 10,
   "id": "62a144a2-01f3-4362-a8cf-91160f2d7a1c",
   "metadata": {},
   "outputs": [
    {
     "name": "stdout",
     "output_type": "stream",
     "text": [
      "('79%', 3959.2749813936352)\n"
     ]
    },
    {
     "data": {
      "image/png": "[encoded data removed]",
      "text/plain": [
       "<Figure size 640x480 with 1 Axes>"
      ]
     },
     "metadata": {},
     "output_type": "display_data"
    }
   ],
   "source": [
    "y_pred = linreg_test(X_train, y_train, X_test)\n",
    "print(compare_results(y_test, y_pred))\n",
    "show_error_distribution(y_test, y_pred)"
   ]
  },
  {
   "cell_type": "code",
   "execution_count": null,
   "id": "bdf66e26-7efc-4d19-b583-8d6c9e3d494c",
   "metadata": {},
   "outputs": [],
   "source": []
  },
  {
   "cell_type": "code",
   "execution_count": 11,
   "id": "a9f96313-d9ae-471f-9eba-b3739475223e",
   "metadata": {},
   "outputs": [
    {
     "name": "stdout",
     "output_type": "stream",
     "text": [
      "('76%', 3823.788183512463)\n"
     ]
    },
    {
     "data": {
      "image/png": "[encoded data removed]",
      "text/plain": [
       "<Figure size 640x480 with 1 Axes>"
      ]
     },
     "metadata": {},
     "output_type": "display_data"
    }
   ],
   "source": [
    "y_pred = logreg_test(X_train, y_train, X_test, 'l2')\n",
    "print(compare_results(y_test, y_pred))\n",
    "show_error_distribution(y_test, y_pred)"
   ]
  },
  {
   "cell_type": "code",
   "execution_count": null,
   "id": "a44b7e50-9cce-45c6-950f-872a11be7cf5",
   "metadata": {},
   "outputs": [],
   "source": []
  },
  {
   "cell_type": "code",
   "execution_count": null,
   "id": "46da2732-779e-49d5-9c7c-4e447e75ae43",
   "metadata": {},
   "outputs": [],
   "source": []
  },
  {
   "cell_type": "code",
   "execution_count": null,
   "id": "f3180206-74bf-4c84-9f11-fa7a92a67ac9",
   "metadata": {},
   "outputs": [],
   "source": []
  },
  {
   "cell_type": "code",
   "execution_count": null,
   "id": "bb2c4a7f-4afd-432c-8181-95b87ae09bee",
   "metadata": {},
   "outputs": [],
   "source": []
  },
  {
   "cell_type": "code",
   "execution_count": null,
   "id": "081707a8-ff2c-4b02-a5a2-ff32073a774b",
   "metadata": {},
   "outputs": [],
   "source": []
  },
  {
   "cell_type": "code",
   "execution_count": null,
   "id": "315a23a1-d3bc-479b-b6f8-9f815e89a840",
   "metadata": {},
   "outputs": [],
   "source": []
  },
  {
   "cell_type": "code",
   "execution_count": null,
   "id": "531383fc-182b-4f7c-8a08-0ba593ce41af",
   "metadata": {},
   "outputs": [],
   "source": []
  },
  {
   "cell_type": "code",
   "execution_count": null,
   "id": "60413f67-61c7-43fc-99d4-6a9d7a741668",
   "metadata": {},
   "outputs": [],
   "source": [
    "\"\"\"\n",
    "notes\n",
    "\n",
    "x -> 1024 -> 512\n",
    "lr: 0.1\n",
    "batchsize: 16\n",
    "epochs: 30\n",
    "train acc: 37.5\n",
    "test acc: 37.5\n",
    "\n",
    "x -> 1024 -> 256        x -> 512 -> 256\n",
    "lr: 0.1                 lr: 0.1\n",
    "batchsize: 16           batchsize: 16\n",
    "epochs: 30              epochs: 30\n",
    "train acc: 31.25        train acc: 12.5\n",
    "test acc: 50            test acc: 37.5\n",
    "\n",
    "x -> 1024 -> 128\n",
    "lr: 0.1\n",
    "batchsize: 16\n",
    "epoches: 30\n",
    "train acc: 31.25\n",
    "test acc: 12.50\n",
    "\n",
    "x -> 1024 -> 64\n",
    "lr: 0.1\n",
    "batchsize: 16\n",
    "epochs: 30\n",
    "train acc: 25\n",
    "test acc: 12.5\n",
    "\n",
    "\n",
    "\"\"\""
   ]
  },
  {
   "cell_type": "code",
   "execution_count": null,
   "id": "c9b46c55-d059-4eca-8e48-92b1c7f2cbee",
   "metadata": {},
   "outputs": [],
   "source": [
    "2469824\n"
   ]
  },
  {
   "cell_type": "code",
   "execution_count": 4,
   "id": "ab399d2e-f2c2-4955-bae9-4348984d8762",
   "metadata": {},
   "outputs": [],
   "source": [
    "import torch"
   ]
  },
  {
   "cell_type": "code",
   "execution_count": 5,
   "id": "bc94e9c3-e2e8-4fb3-8f7b-0bfd29edf4ad",
   "metadata": {},
   "outputs": [],
   "source": [
    "class Net(torch.nn.Module):\n",
    "    def __init__(self):\n",
    "        super(Net, self).__init__()\n",
    "        self.model = torch.nn.Sequential(\n",
    "            torch.nn.Linear(596 * 1036 * 4, 512),\n",
    "            torch.nn.ReLU(),\n",
    "            torch.nn.Linear(512, 256),\n",
    "            # torch.nn.ReLU(),\n",
    "            # torch.nn.Linear(512, 128)\n",
    "        )\n",
    "\n",
    "    def forward(self, x):\n",
    "        x = x.view(-1, 596 * 1036 * 4)\n",
    "        return self.model(x)"
   ]
  },
  {
   "cell_type": "code",
   "execution_count": 6,
   "id": "b2fbe4af-6598-43f3-98eb-5c014572f5b7",
   "metadata": {},
   "outputs": [],
   "source": [
    "net = Net()\n",
    "Loss = torch.nn.CrossEntropyLoss()\n",
    "optimizer = torch.optim.SGD(net.parameters(), lr=0.1)\n",
    "batchsize = 16\n",
    "\n",
    "train_loss_history = []\n",
    "test_loss_history = []\n",
    "num_epochs = 30"
   ]
  },
  {
   "cell_type": "code",
   "execution_count": 7,
   "id": "c571d5eb",
   "metadata": {},
   "outputs": [
    {
     "ename": "RuntimeError",
     "evalue": "mat1 and mat2 shapes cannot be multiplied (9879296x4 and 2469824x512)",
     "output_type": "error",
     "traceback": [
      "\u001b[1;31m---------------------------------------------------------------------------\u001b[0m",
      "\u001b[1;31mRuntimeError\u001b[0m                              Traceback (most recent call last)",
      "Cell \u001b[1;32mIn[7], line 13\u001b[0m\n\u001b[0;32m     10\u001b[0m labels \u001b[38;5;241m=\u001b[39m labels\u001b[38;5;241m.\u001b[39mtype(torch\u001b[38;5;241m.\u001b[39mLongTensor)\n\u001b[0;32m     12\u001b[0m optimizer\u001b[38;5;241m.\u001b[39mzero_grad()\n\u001b[1;32m---> 13\u001b[0m predicted_output \u001b[38;5;241m=\u001b[39m \u001b[43mnet\u001b[49m\u001b[43m(\u001b[49m\u001b[43mimages\u001b[49m\u001b[43m)\u001b[49m\n\u001b[0;32m     14\u001b[0m fit \u001b[38;5;241m=\u001b[39m Loss(predicted_output, labels)\n\u001b[0;32m     15\u001b[0m fit\u001b[38;5;241m.\u001b[39mbackward()\n",
      "File \u001b[1;32m~\\AppData\\Local\\Packages\\PythonSoftwareFoundation.Python.3.10_qbz5n2kfra8p0\\LocalCache\\local-packages\\Python310\\site-packages\\torch\\nn\\modules\\module.py:1518\u001b[0m, in \u001b[0;36mModule._wrapped_call_impl\u001b[1;34m(self, *args, **kwargs)\u001b[0m\n\u001b[0;32m   1516\u001b[0m     \u001b[38;5;28;01mreturn\u001b[39;00m \u001b[38;5;28mself\u001b[39m\u001b[38;5;241m.\u001b[39m_compiled_call_impl(\u001b[38;5;241m*\u001b[39margs, \u001b[38;5;241m*\u001b[39m\u001b[38;5;241m*\u001b[39mkwargs)  \u001b[38;5;66;03m# type: ignore[misc]\u001b[39;00m\n\u001b[0;32m   1517\u001b[0m \u001b[38;5;28;01melse\u001b[39;00m:\n\u001b[1;32m-> 1518\u001b[0m     \u001b[38;5;28;01mreturn\u001b[39;00m \u001b[38;5;28mself\u001b[39m\u001b[38;5;241m.\u001b[39m_call_impl(\u001b[38;5;241m*\u001b[39margs, \u001b[38;5;241m*\u001b[39m\u001b[38;5;241m*\u001b[39mkwargs)\n",
      "File \u001b[1;32m~\\AppData\\Local\\Packages\\PythonSoftwareFoundation.Python.3.10_qbz5n2kfra8p0\\LocalCache\\local-packages\\Python310\\site-packages\\torch\\nn\\modules\\module.py:1527\u001b[0m, in \u001b[0;36mModule._call_impl\u001b[1;34m(self, *args, **kwargs)\u001b[0m\n\u001b[0;32m   1522\u001b[0m \u001b[38;5;66;03m# If we don't have any hooks, we want to skip the rest of the logic in\u001b[39;00m\n\u001b[0;32m   1523\u001b[0m \u001b[38;5;66;03m# this function, and just call forward.\u001b[39;00m\n\u001b[0;32m   1524\u001b[0m \u001b[38;5;28;01mif\u001b[39;00m \u001b[38;5;129;01mnot\u001b[39;00m (\u001b[38;5;28mself\u001b[39m\u001b[38;5;241m.\u001b[39m_backward_hooks \u001b[38;5;129;01mor\u001b[39;00m \u001b[38;5;28mself\u001b[39m\u001b[38;5;241m.\u001b[39m_backward_pre_hooks \u001b[38;5;129;01mor\u001b[39;00m \u001b[38;5;28mself\u001b[39m\u001b[38;5;241m.\u001b[39m_forward_hooks \u001b[38;5;129;01mor\u001b[39;00m \u001b[38;5;28mself\u001b[39m\u001b[38;5;241m.\u001b[39m_forward_pre_hooks\n\u001b[0;32m   1525\u001b[0m         \u001b[38;5;129;01mor\u001b[39;00m _global_backward_pre_hooks \u001b[38;5;129;01mor\u001b[39;00m _global_backward_hooks\n\u001b[0;32m   1526\u001b[0m         \u001b[38;5;129;01mor\u001b[39;00m _global_forward_hooks \u001b[38;5;129;01mor\u001b[39;00m _global_forward_pre_hooks):\n\u001b[1;32m-> 1527\u001b[0m     \u001b[38;5;28;01mreturn\u001b[39;00m forward_call(\u001b[38;5;241m*\u001b[39margs, \u001b[38;5;241m*\u001b[39m\u001b[38;5;241m*\u001b[39mkwargs)\n\u001b[0;32m   1529\u001b[0m \u001b[38;5;28;01mtry\u001b[39;00m:\n\u001b[0;32m   1530\u001b[0m     result \u001b[38;5;241m=\u001b[39m \u001b[38;5;28;01mNone\u001b[39;00m\n",
      "Cell \u001b[1;32mIn[5], line 14\u001b[0m, in \u001b[0;36mNet.forward\u001b[1;34m(self, x)\u001b[0m\n\u001b[0;32m     12\u001b[0m \u001b[38;5;28;01mdef\u001b[39;00m \u001b[38;5;21mforward\u001b[39m(\u001b[38;5;28mself\u001b[39m, x):\n\u001b[0;32m     13\u001b[0m     \u001b[38;5;66;03m# x = x.view(-1, 596 * 1036 * 4)\u001b[39;00m\n\u001b[1;32m---> 14\u001b[0m     \u001b[38;5;28;01mreturn\u001b[39;00m \u001b[38;5;28;43mself\u001b[39;49m\u001b[38;5;241;43m.\u001b[39;49m\u001b[43mmodel\u001b[49m\u001b[43m(\u001b[49m\u001b[43mx\u001b[49m\u001b[43m)\u001b[49m\n",
      "File \u001b[1;32m~\\AppData\\Local\\Packages\\PythonSoftwareFoundation.Python.3.10_qbz5n2kfra8p0\\LocalCache\\local-packages\\Python310\\site-packages\\torch\\nn\\modules\\module.py:1518\u001b[0m, in \u001b[0;36mModule._wrapped_call_impl\u001b[1;34m(self, *args, **kwargs)\u001b[0m\n\u001b[0;32m   1516\u001b[0m     \u001b[38;5;28;01mreturn\u001b[39;00m \u001b[38;5;28mself\u001b[39m\u001b[38;5;241m.\u001b[39m_compiled_call_impl(\u001b[38;5;241m*\u001b[39margs, \u001b[38;5;241m*\u001b[39m\u001b[38;5;241m*\u001b[39mkwargs)  \u001b[38;5;66;03m# type: ignore[misc]\u001b[39;00m\n\u001b[0;32m   1517\u001b[0m \u001b[38;5;28;01melse\u001b[39;00m:\n\u001b[1;32m-> 1518\u001b[0m     \u001b[38;5;28;01mreturn\u001b[39;00m \u001b[38;5;28mself\u001b[39m\u001b[38;5;241m.\u001b[39m_call_impl(\u001b[38;5;241m*\u001b[39margs, \u001b[38;5;241m*\u001b[39m\u001b[38;5;241m*\u001b[39mkwargs)\n",
      "File \u001b[1;32m~\\AppData\\Local\\Packages\\PythonSoftwareFoundation.Python.3.10_qbz5n2kfra8p0\\LocalCache\\local-packages\\Python310\\site-packages\\torch\\nn\\modules\\module.py:1527\u001b[0m, in \u001b[0;36mModule._call_impl\u001b[1;34m(self, *args, **kwargs)\u001b[0m\n\u001b[0;32m   1522\u001b[0m \u001b[38;5;66;03m# If we don't have any hooks, we want to skip the rest of the logic in\u001b[39;00m\n\u001b[0;32m   1523\u001b[0m \u001b[38;5;66;03m# this function, and just call forward.\u001b[39;00m\n\u001b[0;32m   1524\u001b[0m \u001b[38;5;28;01mif\u001b[39;00m \u001b[38;5;129;01mnot\u001b[39;00m (\u001b[38;5;28mself\u001b[39m\u001b[38;5;241m.\u001b[39m_backward_hooks \u001b[38;5;129;01mor\u001b[39;00m \u001b[38;5;28mself\u001b[39m\u001b[38;5;241m.\u001b[39m_backward_pre_hooks \u001b[38;5;129;01mor\u001b[39;00m \u001b[38;5;28mself\u001b[39m\u001b[38;5;241m.\u001b[39m_forward_hooks \u001b[38;5;129;01mor\u001b[39;00m \u001b[38;5;28mself\u001b[39m\u001b[38;5;241m.\u001b[39m_forward_pre_hooks\n\u001b[0;32m   1525\u001b[0m         \u001b[38;5;129;01mor\u001b[39;00m _global_backward_pre_hooks \u001b[38;5;129;01mor\u001b[39;00m _global_backward_hooks\n\u001b[0;32m   1526\u001b[0m         \u001b[38;5;129;01mor\u001b[39;00m _global_forward_hooks \u001b[38;5;129;01mor\u001b[39;00m _global_forward_pre_hooks):\n\u001b[1;32m-> 1527\u001b[0m     \u001b[38;5;28;01mreturn\u001b[39;00m forward_call(\u001b[38;5;241m*\u001b[39margs, \u001b[38;5;241m*\u001b[39m\u001b[38;5;241m*\u001b[39mkwargs)\n\u001b[0;32m   1529\u001b[0m \u001b[38;5;28;01mtry\u001b[39;00m:\n\u001b[0;32m   1530\u001b[0m     result \u001b[38;5;241m=\u001b[39m \u001b[38;5;28;01mNone\u001b[39;00m\n",
      "File \u001b[1;32m~\\AppData\\Local\\Packages\\PythonSoftwareFoundation.Python.3.10_qbz5n2kfra8p0\\LocalCache\\local-packages\\Python310\\site-packages\\torch\\nn\\modules\\container.py:215\u001b[0m, in \u001b[0;36mSequential.forward\u001b[1;34m(self, input)\u001b[0m\n\u001b[0;32m    213\u001b[0m \u001b[38;5;28;01mdef\u001b[39;00m \u001b[38;5;21mforward\u001b[39m(\u001b[38;5;28mself\u001b[39m, \u001b[38;5;28minput\u001b[39m):\n\u001b[0;32m    214\u001b[0m     \u001b[38;5;28;01mfor\u001b[39;00m module \u001b[38;5;129;01min\u001b[39;00m \u001b[38;5;28mself\u001b[39m:\n\u001b[1;32m--> 215\u001b[0m         \u001b[38;5;28minput\u001b[39m \u001b[38;5;241m=\u001b[39m \u001b[43mmodule\u001b[49m\u001b[43m(\u001b[49m\u001b[38;5;28;43minput\u001b[39;49m\u001b[43m)\u001b[49m\n\u001b[0;32m    216\u001b[0m     \u001b[38;5;28;01mreturn\u001b[39;00m \u001b[38;5;28minput\u001b[39m\n",
      "File \u001b[1;32m~\\AppData\\Local\\Packages\\PythonSoftwareFoundation.Python.3.10_qbz5n2kfra8p0\\LocalCache\\local-packages\\Python310\\site-packages\\torch\\nn\\modules\\module.py:1518\u001b[0m, in \u001b[0;36mModule._wrapped_call_impl\u001b[1;34m(self, *args, **kwargs)\u001b[0m\n\u001b[0;32m   1516\u001b[0m     \u001b[38;5;28;01mreturn\u001b[39;00m \u001b[38;5;28mself\u001b[39m\u001b[38;5;241m.\u001b[39m_compiled_call_impl(\u001b[38;5;241m*\u001b[39margs, \u001b[38;5;241m*\u001b[39m\u001b[38;5;241m*\u001b[39mkwargs)  \u001b[38;5;66;03m# type: ignore[misc]\u001b[39;00m\n\u001b[0;32m   1517\u001b[0m \u001b[38;5;28;01melse\u001b[39;00m:\n\u001b[1;32m-> 1518\u001b[0m     \u001b[38;5;28;01mreturn\u001b[39;00m \u001b[38;5;28mself\u001b[39m\u001b[38;5;241m.\u001b[39m_call_impl(\u001b[38;5;241m*\u001b[39margs, \u001b[38;5;241m*\u001b[39m\u001b[38;5;241m*\u001b[39mkwargs)\n",
      "File \u001b[1;32m~\\AppData\\Local\\Packages\\PythonSoftwareFoundation.Python.3.10_qbz5n2kfra8p0\\LocalCache\\local-packages\\Python310\\site-packages\\torch\\nn\\modules\\module.py:1527\u001b[0m, in \u001b[0;36mModule._call_impl\u001b[1;34m(self, *args, **kwargs)\u001b[0m\n\u001b[0;32m   1522\u001b[0m \u001b[38;5;66;03m# If we don't have any hooks, we want to skip the rest of the logic in\u001b[39;00m\n\u001b[0;32m   1523\u001b[0m \u001b[38;5;66;03m# this function, and just call forward.\u001b[39;00m\n\u001b[0;32m   1524\u001b[0m \u001b[38;5;28;01mif\u001b[39;00m \u001b[38;5;129;01mnot\u001b[39;00m (\u001b[38;5;28mself\u001b[39m\u001b[38;5;241m.\u001b[39m_backward_hooks \u001b[38;5;129;01mor\u001b[39;00m \u001b[38;5;28mself\u001b[39m\u001b[38;5;241m.\u001b[39m_backward_pre_hooks \u001b[38;5;129;01mor\u001b[39;00m \u001b[38;5;28mself\u001b[39m\u001b[38;5;241m.\u001b[39m_forward_hooks \u001b[38;5;129;01mor\u001b[39;00m \u001b[38;5;28mself\u001b[39m\u001b[38;5;241m.\u001b[39m_forward_pre_hooks\n\u001b[0;32m   1525\u001b[0m         \u001b[38;5;129;01mor\u001b[39;00m _global_backward_pre_hooks \u001b[38;5;129;01mor\u001b[39;00m _global_backward_hooks\n\u001b[0;32m   1526\u001b[0m         \u001b[38;5;129;01mor\u001b[39;00m _global_forward_hooks \u001b[38;5;129;01mor\u001b[39;00m _global_forward_pre_hooks):\n\u001b[1;32m-> 1527\u001b[0m     \u001b[38;5;28;01mreturn\u001b[39;00m forward_call(\u001b[38;5;241m*\u001b[39margs, \u001b[38;5;241m*\u001b[39m\u001b[38;5;241m*\u001b[39mkwargs)\n\u001b[0;32m   1529\u001b[0m \u001b[38;5;28;01mtry\u001b[39;00m:\n\u001b[0;32m   1530\u001b[0m     result \u001b[38;5;241m=\u001b[39m \u001b[38;5;28;01mNone\u001b[39;00m\n",
      "File \u001b[1;32m~\\AppData\\Local\\Packages\\PythonSoftwareFoundation.Python.3.10_qbz5n2kfra8p0\\LocalCache\\local-packages\\Python310\\site-packages\\torch\\nn\\modules\\linear.py:114\u001b[0m, in \u001b[0;36mLinear.forward\u001b[1;34m(self, input)\u001b[0m\n\u001b[0;32m    113\u001b[0m \u001b[38;5;28;01mdef\u001b[39;00m \u001b[38;5;21mforward\u001b[39m(\u001b[38;5;28mself\u001b[39m, \u001b[38;5;28minput\u001b[39m: Tensor) \u001b[38;5;241m-\u001b[39m\u001b[38;5;241m>\u001b[39m Tensor:\n\u001b[1;32m--> 114\u001b[0m     \u001b[38;5;28;01mreturn\u001b[39;00m \u001b[43mF\u001b[49m\u001b[38;5;241;43m.\u001b[39;49m\u001b[43mlinear\u001b[49m\u001b[43m(\u001b[49m\u001b[38;5;28;43minput\u001b[39;49m\u001b[43m,\u001b[49m\u001b[43m \u001b[49m\u001b[38;5;28;43mself\u001b[39;49m\u001b[38;5;241;43m.\u001b[39;49m\u001b[43mweight\u001b[49m\u001b[43m,\u001b[49m\u001b[43m \u001b[49m\u001b[38;5;28;43mself\u001b[39;49m\u001b[38;5;241;43m.\u001b[39;49m\u001b[43mbias\u001b[49m\u001b[43m)\u001b[49m\n",
      "\u001b[1;31mRuntimeError\u001b[0m: mat1 and mat2 shapes cannot be multiplied (9879296x4 and 2469824x512)"
     ]
    }
   ],
   "source": [
    "for epoch in range(num_epochs):\n",
    "    train_loss = 0.0\n",
    "    test_loss = 0.0\n",
    "    for i in range(0, len(X_train), batchsize):\n",
    "        images, labels = X_train[i:i+batchsize], y_train[i:i+batchsize]\n",
    "\n",
    "        images = torch.from_numpy(np.asarray(images))\n",
    "        images = images.type(torch.FloatTensor)\n",
    "        labels = torch.from_numpy(np.asarray([x[0] for x in labels]))\n",
    "        labels = labels.type(torch.LongTensor)\n",
    "        \n",
    "        optimizer.zero_grad()\n",
    "        predicted_output = net(images)\n",
    "        fit = Loss(predicted_output, labels)\n",
    "        fit.backward()\n",
    "        optimizer.step()\n",
    "        train_loss += fit.item()\n",
    "    for i in range(0, len(X_test), batchsize):\n",
    "        with torch.no_grad():\n",
    "            images, labels = X_test[i:i+batchsize], y_test[i:i+batchsize]\n",
    "\n",
    "            images = torch.from_numpy(np.asarray(images))\n",
    "            images = images.type(torch.FloatTensor)\n",
    "            labels = torch.from_numpy(np.asarray([x[0] for x in labels]))\n",
    "            labels = labels.type(torch.LongTensor)\n",
    "            \n",
    "            predicted_output = net(images)\n",
    "            fit = Loss(predicted_output, labels)\n",
    "            test_loss += fit.item()\n",
    "    \n",
    "    train_loss = train_loss/len(X_train)\n",
    "    test_loss = test_loss/len(X_test)\n",
    "    train_loss_history.append(train_loss)\n",
    "    test_loss_history.append(test_loss)\n",
    "\n",
    "    print('Epoch {}, \\tTrain loss {}, \\tTest loss {}'.format(epoch, round(train_loss, 2), round(test_loss, 2)))"
   ]
  },
  {
   "cell_type": "code",
   "execution_count": null,
   "id": "8cdf5ef6-27d9-4953-b17e-75536caea369",
   "metadata": {},
   "outputs": [],
   "source": []
  },
  {
   "cell_type": "code",
   "execution_count": null,
   "id": "bf008486",
   "metadata": {},
   "outputs": [],
   "source": [
    "plt.plot(np.arange(num_epochs),train_loss_history,'-',linewidth=3,label='Train error')\n",
    "plt.plot(np.arange(num_epochs),test_loss_history,'-',linewidth=3,label='Test error')\n",
    "plt.xlabel('epoch')\n",
    "plt.ylabel('loss')\n",
    "plt.grid(True)\n",
    "plt.legend()"
   ]
  },
  {
   "cell_type": "code",
   "execution_count": 8,
   "id": "a3c6c24c-baee-460a-8451-a5f90dc3df51",
   "metadata": {},
   "outputs": [
    {
     "name": "stdout",
     "output_type": "stream",
     "text": [
      "Train acc = 12.50, test acc = 37.50\n"
     ]
    }
   ],
   "source": [
    "def evaluate(train, test, batchsize):\n",
    "    total, correct = 0, 0\n",
    "    net.eval() # don't update weights\n",
    "\n",
    "    train = torch.from_numpy(np.asarray(train))\n",
    "    train = train.type(torch.FloatTensor)\n",
    "    test = torch.from_numpy(np.asarray([v[0] for v in test]))\n",
    "    test = test.type(torch.LongTensor)\n",
    "    \n",
    "    for ind in range(0, len(train), batchsize):\n",
    "        predicted_output = net(train[i:i+batchsize])\n",
    "        _, predicted_labels = torch.max(predicted_output, 1)\n",
    "        total += test[i:i+batchsize].size(0)\n",
    "        correct += (predicted_labels == test[i:i+batchsize]).sum().item()\n",
    "    return 100 * correct/total\n",
    "\n",
    "batchsize = 16\n",
    "print('Train acc = %0.2f, test acc = %0.2f' % (evaluate(X_train, y_train, batchsize), evaluate(X_test, y_test, batchsize)))"
   ]
  },
  {
   "cell_type": "code",
   "execution_count": null,
   "id": "8f85f3a0-1214-4709-94ff-3b64f358c7a4",
   "metadata": {},
   "outputs": [],
   "source": []
  },
  {
   "cell_type": "code",
   "execution_count": null,
   "id": "fca53d27",
   "metadata": {},
   "outputs": [],
   "source": []
  },
  {
   "cell_type": "code",
   "execution_count": null,
   "id": "fa05ca31-e02f-4159-b895-40af9c16fa72",
   "metadata": {},
   "outputs": [],
   "source": []
  },
  {
   "cell_type": "code",
   "execution_count": null,
   "id": "a9229fdd-b4ed-42bf-8e36-c8ed9984c8cf",
   "metadata": {},
   "outputs": [],
   "source": []
  },
  {
   "cell_type": "code",
   "execution_count": null,
   "id": "fa2d3423",
   "metadata": {},
   "outputs": [],
   "source": []
  },
  {
   "cell_type": "code",
   "execution_count": null,
   "id": "de89910b-834e-406f-9e36-a4e8f1f31655",
   "metadata": {},
   "outputs": [],
   "source": []
  },
  {
   "cell_type": "code",
   "execution_count": null,
   "id": "0cd28d4f",
   "metadata": {},
   "outputs": [],
   "source": []
  },
  {
   "cell_type": "code",
   "execution_count": null,
   "id": "6571d9e8",
   "metadata": {},
   "outputs": [],
   "source": []
  },
  {
   "cell_type": "code",
   "execution_count": null,
   "id": "2d65453b-2697-4808-b227-03779eb01382",
   "metadata": {},
   "outputs": [],
   "source": []
  },
  {
   "cell_type": "code",
   "execution_count": null,
   "id": "9820dc40-270e-4411-b57f-8f3217a75168",
   "metadata": {},
   "outputs": [],
   "source": []
  }
 ],
 "metadata": {
  "kernelspec": {
   "display_name": "Python 3 (ipykernel)",
   "language": "python",
   "name": "python3"
  },
  "language_info": {
   "codemirror_mode": {
    "name": "ipython",
    "version": 3
   },
   "file_extension": ".py",
   "mimetype": "text/x-python",
   "name": "python",
   "nbconvert_exporter": "python",
   "pygments_lexer": "ipython3",
   "version": "3.10.11"
  }
 },
 "nbformat": 4,
 "nbformat_minor": 5
}
